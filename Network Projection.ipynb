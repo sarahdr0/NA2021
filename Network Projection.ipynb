{
 "cells": [
  {
   "cell_type": "code",
   "execution_count": 57,
   "id": "2cefff34",
   "metadata": {},
   "outputs": [],
   "source": [
    "import networkx as nx\n",
    "import random\n",
    "import numpy as np\n",
    "\n",
    "# measures\n",
    "from scipy.stats import linregress\n",
    "from sklearn.metrics import pairwise_distances\n",
    "from scipy import sparse\n",
    "from collections import Counter\n",
    "\n",
    "# df\n",
    "import pandas as pd\n",
    "\n",
    "# save\n",
    "import json\n",
    "\n",
    "# plot\n",
    "import matplotlib.pyplot as plt"
   ]
  },
  {
   "cell_type": "code",
   "execution_count": 16,
   "id": "0cccf42e",
   "metadata": {},
   "outputs": [],
   "source": [
    "G = nx.read_edgelist(\"dataset_ubicomp2013_tips_final_subcompontents_removed.txt\")\n",
    "nodes = nx.algorithms.bipartite.basic.sets(G)\n",
    "\n",
    "nodes = nx.algorithms.bipartite.basic.sets(G)\n",
    "rows = sorted(list(nodes[0]))\n",
    "cols = sorted(list(nodes[1]))\n",
    "if \"u145041\" in rows:\n",
    "   nodes = rows\n",
    "else:\n",
    "   nodes = cols"
   ]
  },
  {
   "cell_type": "code",
   "execution_count": 17,
   "id": "3724ebc9",
   "metadata": {},
   "outputs": [],
   "source": [
    "# We make the code from the previous question into its own function\n",
    "def simple(network, nodes):\n",
    "   T = nx.algorithms.bipartite.matrix.biadjacency_matrix(network, row_order = nodes)\n",
    "   U = T * T.T\n",
    "   U.setdiag(0)\n",
    "   U.eliminate_zeros()\n",
    "   G = nx.from_scipy_sparse_matrix(U)\n",
    "   return nx.relabel_nodes(G, {i: nodes[i] for i in range(len(nodes))})\n",
    "# We make functions to calculate alternative projections. The scheme is the same:\n",
    "# calculate pairwise distances from the bipartite adjacency matrix and make them\n",
    "# into similarity measures.\n",
    "def cosine(network, nodes):\n",
    "   T = nx.algorithms.bipartite.matrix.biadjacency_matrix(network, row_order = nodes)\n",
    "   # Since this is a distance, we take the inverse to make it into a similarity.\n",
    "   # Maximum possible cosine distance is 1, so we take one minus it. If the two nodes\n",
    "   # were identical, this measure equals to 1, if they were the maximum posible far\n",
    "   # apart, this measure is zero.\n",
    "   j_dist = 1.0 - pairwise_distances(T, metric = \"cosine\", n_jobs = -1)\n",
    "   np.fill_diagonal(j_dist, 0)\n",
    "   G = nx.from_numpy_matrix(j_dist)\n",
    "   return nx.relabel_nodes(G, {i: nodes[i] for i in range(len(nodes))})\n",
    "\n",
    "def pearson(network, nodes):\n",
    "   T = nx.algorithms.bipartite.matrix.biadjacency_matrix(network, row_order = nodes)\n",
    "   # Correlation distance maximum is 2 (corresponding to pearson correlation of -1).\n",
    "   j_dist = (2.0 - pairwise_distances(T.todense(), metric = \"correlation\", n_jobs = -1)) / 2\n",
    "   np.fill_diagonal(j_dist, 0)\n",
    "   # We remove all edges between nodes negatively correlated with each other.\n",
    "   j_dist[j_dist < .5] = 0\n",
    "   G = nx.from_numpy_matrix(j_dist)\n",
    "   return nx.relabel_nodes(G, {i: nodes[i] for i in range(len(nodes))})\n",
    "\n",
    "# Function calculating hyperbolic weights. basically, we just need to normalize\n",
    "# the bipartite adjacency matrix by its degree, because each neighbo now counts\n",
    "# not as one, but as one over the degree. Then the rest is as before.\n",
    "def hyper(network, nodes):\n",
    "   T = nx.algorithms.bipartite.matrix.biadjacency_matrix(network, row_order = nodes)\n",
    "   T /= T.sum(axis = 0)\n",
    "   T = sparse.csr_matrix(T)\n",
    "   U = T * T.T\n",
    "   U.setdiag(0)\n",
    "   U.eliminate_zeros()\n",
    "   G = nx.from_scipy_sparse_matrix(U)\n",
    "   return nx.relabel_nodes(G, {i: nodes[i] for i in range(len(nodes))})"
   ]
  },
  {
   "cell_type": "code",
   "execution_count": 20,
   "id": "01f65869",
   "metadata": {},
   "outputs": [],
   "source": [
    "G_simple = simple(G, nodes)\n",
    "G_cosine = cosine(G, nodes)\n",
    "G_pearson = pearson(G, nodes)\n",
    "G_hyper = hyper(G, nodes)\n",
    "all_edges = set(G_simple.edges) | set(G_cosine.edges) | set(G_pearson.edges) | set(G_hyper.edges)\n",
    "all_networks = []\n",
    "n = [\"Simple\", G_simple]\n",
    ".append(G_simple)"
   ]
  },
  {
   "cell_type": "code",
   "execution_count": 51,
   "id": "1955ba29",
   "metadata": {},
   "outputs": [
    {
     "data": {
      "text/html": [
       "<div>\n",
       "<style scoped>\n",
       "    .dataframe tbody tr th:only-of-type {\n",
       "        vertical-align: middle;\n",
       "    }\n",
       "\n",
       "    .dataframe tbody tr th {\n",
       "        vertical-align: top;\n",
       "    }\n",
       "\n",
       "    .dataframe thead th {\n",
       "        text-align: right;\n",
       "    }\n",
       "</style>\n",
       "<table border=\"1\" class=\"dataframe\">\n",
       "  <thead>\n",
       "    <tr style=\"text-align: right;\">\n",
       "      <th></th>\n",
       "      <th>simple</th>\n",
       "      <th>cosine</th>\n",
       "      <th>pearson</th>\n",
       "      <th>hyper</th>\n",
       "    </tr>\n",
       "  </thead>\n",
       "  <tbody>\n",
       "    <tr>\n",
       "      <th>simple</th>\n",
       "      <td>1.000000</td>\n",
       "      <td>-0.093403</td>\n",
       "      <td>-0.097967</td>\n",
       "      <td>0.206977</td>\n",
       "    </tr>\n",
       "    <tr>\n",
       "      <th>cosine</th>\n",
       "      <td>-0.093403</td>\n",
       "      <td>1.000000</td>\n",
       "      <td>0.979636</td>\n",
       "      <td>0.006667</td>\n",
       "    </tr>\n",
       "    <tr>\n",
       "      <th>pearson</th>\n",
       "      <td>-0.097967</td>\n",
       "      <td>0.979636</td>\n",
       "      <td>1.000000</td>\n",
       "      <td>0.010950</td>\n",
       "    </tr>\n",
       "    <tr>\n",
       "      <th>hyper</th>\n",
       "      <td>0.206977</td>\n",
       "      <td>0.006667</td>\n",
       "      <td>0.010950</td>\n",
       "      <td>1.000000</td>\n",
       "    </tr>\n",
       "  </tbody>\n",
       "</table>\n",
       "</div>"
      ],
      "text/plain": [
       "           simple    cosine   pearson     hyper\n",
       "simple   1.000000 -0.093403 -0.097967  0.206977\n",
       "cosine  -0.093403  1.000000  0.979636  0.006667\n",
       "pearson -0.097967  0.979636  1.000000  0.010950\n",
       "hyper    0.206977  0.006667  0.010950  1.000000"
      ]
     },
     "execution_count": 51,
     "metadata": {},
     "output_type": "execute_result"
    }
   ],
   "source": [
    "df = pd.DataFrame(data = [(e,\n",
    "                           G_simple.edges[e][\"weight\"] if e in G_simple.edges else 0, \n",
    "                           G_cosine.edges[e][\"weight\"] if e in G_cosine.edges else 0, \n",
    "                           G_pearson.edges[e][\"weight\"] if e in G_pearson.edges else 0,\n",
    "                          G_hyper.edges[e][\"weight\"] if e in G_pearson.edges else 0,)\n",
    "                         for e in all_edges], columns = (\"edge\", \"simple\", \"cosine\", \"pearson\", \"hyper\"))\n",
    "\n",
    "df.set_index(\"edge\").corr()"
   ]
  },
  {
   "cell_type": "code",
   "execution_count": 49,
   "id": "2fcaeb9d",
   "metadata": {},
   "outputs": [],
   "source": [
    "graphs = [[\"Simple\", G_simple], [\"Cosine\", G_cosine], [\"Pearson\", G_pearson], [\"Hyper\", G_hyper]]"
   ]
  },
  {
   "cell_type": "code",
   "execution_count": 63,
   "id": "8e694f14",
   "metadata": {},
   "outputs": [
    {
     "data": {
      "image/png": "[encoded data removed]",
      "text/plain": [
       "<Figure size 432x288 with 1 Axes>"
      ]
     },
     "metadata": {
      "needs_background": "light"
     },
     "output_type": "display_data"
    },
    {
     "name": "stdout",
     "output_type": "stream",
     "text": [
      "Minimum threshold: 1.9\n",
      "Edges kept: 958\n"
     ]
    },
    {
     "data": {
      "image/png": "[encoded data removed]",
      "text/plain": [
       "<Figure size 432x288 with 1 Axes>"
      ]
     },
     "metadata": {
      "needs_background": "light"
     },
     "output_type": "display_data"
    },
    {
     "name": "stdout",
     "output_type": "stream",
     "text": [
      "Minimum threshold: 0.6\n",
      "Edges kept: 1176\n"
     ]
    },
    {
     "data": {
      "image/png": "[encoded data removed]",
      "text/plain": [
       "<Figure size 432x288 with 1 Axes>"
      ]
     },
     "metadata": {
      "needs_background": "light"
     },
     "output_type": "display_data"
    },
    {
     "name": "stdout",
     "output_type": "stream",
     "text": [
      "Minimum threshold: 0.8\n",
      "Edges kept: 1176\n"
     ]
    },
    {
     "data": {
      "image/png": "[encoded data removed]",
      "text/plain": [
       "<Figure size 432x288 with 1 Axes>"
      ]
     },
     "metadata": {
      "needs_background": "light"
     },
     "output_type": "display_data"
    },
    {
     "name": "stdout",
     "output_type": "stream",
     "text": [
      "Minimum threshold: 0.1\n",
      "Edges kept: 765\n"
     ]
    }
   ],
   "source": [
    "for graph in graphs:\n",
    "    edgeweights = list(dict(nx.get_edge_attributes(graph[1], \"weight\")).values())\n",
    "    # Let's use our degree CCDF code for the edge weights\n",
    "    wd = pd.DataFrame(list(Counter(edgeweights).items()), columns = (\"weight\", \"count\")).sort_values(by = \"weight\")\n",
    "    ccdf = wd.sort_values(by = \"weight\", ascending = False)\n",
    "    ccdf[\"cumsum\"] = ccdf[\"count\"].cumsum()\n",
    "    ccdf[\"ccdf\"] = ccdf[\"cumsum\"] / ccdf[\"count\"].sum()\n",
    "    ccdf = ccdf[[\"weight\", \"ccdf\"]].sort_values(by = \"weight\")\n",
    "    ccdf.plot(kind = \"line\", x = \"weight\", y = \"ccdf\", color = \"#e41a1c\", loglog = True)\n",
    "    plt.title(graph[0])\n",
    "    plt.show()\n",
    "    # Calculate average & stdev\n",
    "    edgeweights = np.array(edgeweights)\n",
    "    avg = np.mean(edgeweights)\n",
    "    std = np.std(edgeweights)\n",
    "    # Minimum threshold weight\n",
    "    threshold = avg + (2 * std)\n",
    "    print(\"Minimum threshold: %1.1f\" % threshold)\n",
    "    # Counting edges above the threshold\n",
    "    edges_kept = 0\n",
    "    for e in graph[1].edges(data = True):\n",
    "        if e[2][\"weight\"] >= threshold:\n",
    "            edges_kept += 1\n",
    "    print(\"Edges kept: %d\" % edges_kept)"
   ]
  },
  {
   "cell_type": "code",
   "execution_count": null,
   "id": "4874b084",
   "metadata": {},
   "outputs": [],
   "source": []
  }
 ],
 "metadata": {
  "kernelspec": {
   "display_name": "Python 3 (ipykernel)",
   "language": "python",
   "name": "python3"
  },
  "language_info": {
   "codemirror_mode": {
    "name": "ipython",
    "version": 3
   },
   "file_extension": ".py",
   "mimetype": "text/x-python",
   "name": "python",
   "nbconvert_exporter": "python",
   "pygments_lexer": "ipython3",
   "version": "3.9.6"
  }
 },
 "nbformat": 4,
 "nbformat_minor": 5
}
