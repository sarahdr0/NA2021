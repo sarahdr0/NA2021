{
 "cells": [
  {
   "cell_type": "code",
   "execution_count": 1,
   "id": "5e3372e9",
   "metadata": {},
   "outputs": [],
   "source": [
    "import networkx as nx\n",
    "import random"
   ]
  },
  {
   "cell_type": "code",
   "execution_count": 2,
   "id": "4d0a5853",
   "metadata": {},
   "outputs": [],
   "source": [
    "G = nx.read_edgelist(\"dataset_ubicomp2013_tips_final_subcompontents_removed.txt\")"
   ]
  },
  {
   "cell_type": "markdown",
   "id": "c6c36b8e",
   "metadata": {},
   "source": [
    "Simple sampling, we can skip this part"
   ]
  },
  {
   "cell_type": "code",
   "execution_count": 15,
   "id": "243b921d",
   "metadata": {
    "scrolled": true
   },
   "outputs": [
    {
     "name": "stderr",
     "output_type": "stream",
     "text": [
      "C:\\Users\\MUSIC\\AppData\\Local\\Temp/ipykernel_13112/75908891.py:2: DeprecationWarning: Sampling from a set deprecated\n",
      "since Python 3.9 and will be removed in a subsequent version.\n",
      "  sampled_nodes = random.sample(G.nodes, k)\n"
     ]
    }
   ],
   "source": [
    "k = 1000\n",
    "sampled_nodes = random.sample(G.nodes, k)\n",
    "sampled_graph = G.subgraph(sampled_nodes)"
   ]
  },
  {
   "cell_type": "markdown",
   "id": "799c0ea4",
   "metadata": {},
   "source": [
    "Ther was a problem with a \"freezed\" graph, that can means kind a protection, so code unfreeze it to be able to remove small clusters"
   ]
  },
  {
   "cell_type": "code",
   "execution_count": 16,
   "id": "daca876b",
   "metadata": {
    "scrolled": true
   },
   "outputs": [
    {
     "data": {
      "text/plain": [
       "False"
      ]
     },
     "execution_count": 16,
     "metadata": {},
     "output_type": "execute_result"
    }
   ],
   "source": [
    "unfrozen_graph = nx.Graph(sampled_graph)\n",
    "nx.is_frozen(unfrozen_graph)"
   ]
  },
  {
   "cell_type": "markdown",
   "id": "63af160b",
   "metadata": {},
   "source": [
    "Below needs after the sampling, since small clusters have in the graphs"
   ]
  },
  {
   "cell_type": "code",
   "execution_count": 17,
   "id": "8be5e272",
   "metadata": {},
   "outputs": [
    {
     "data": {
      "text/plain": [
       "167"
      ]
     },
     "execution_count": 17,
     "metadata": {},
     "output_type": "execute_result"
    }
   ],
   "source": [
    "max([len(c) for c in sorted(nx.connected_components(unfrozen_graph), key=len, reverse=True)])"
   ]
  },
  {
   "cell_type": "code",
   "execution_count": 18,
   "id": "536845e4",
   "metadata": {
    "scrolled": true
   },
   "outputs": [
    {
     "name": "stdout",
     "output_type": "stream",
     "text": [
      "components in the dataset:  685\n",
      "[167, 12, 7, 7, 7, 6, 5, 4, 4, 4, 4, 4, 4, 4, 4, 3, 3, 3, 3, 3, 3, 3, 3, 3, 3, 3, 3, 3, 2, 2, 2, 2, 2, 2, 2, 2, 2, 2, 2, 2, 2, 2, 2, 2, 2, 2, 2, 2, 2, 2, 2, 2, 2, 2, 2, 2, 2, 2, 2, 2, 2, 2, 2, 2, 2, 2, 2, 2, 2, 2, 2, 2, 2, 2, 2, 2, 2, 2, 2, 2, 2, 2, 2, 2, 2, 2, 2, 2, 2, 1, 1, 1, 1, 1, 1, 1, 1, 1, 1, 1, 1, 1, 1, 1, 1, 1, 1, 1, 1, 1, 1, 1, 1, 1, 1, 1, 1, 1, 1, 1, 1, 1, 1, 1, 1, 1, 1, 1, 1, 1, 1, 1, 1, 1, 1, 1, 1, 1, 1, 1, 1, 1, 1, 1, 1, 1, 1, 1, 1, 1, 1, 1, 1, 1, 1, 1, 1, 1, 1, 1, 1, 1, 1, 1, 1, 1, 1, 1, 1, 1, 1, 1, 1, 1, 1, 1, 1, 1, 1, 1, 1, 1, 1, 1, 1, 1, 1, 1, 1, 1, 1, 1, 1, 1, 1, 1, 1, 1, 1, 1, 1, 1, 1, 1, 1, 1, 1, 1, 1, 1, 1, 1, 1, 1, 1, 1, 1, 1, 1, 1, 1, 1, 1, 1, 1, 1, 1, 1, 1, 1, 1, 1, 1, 1, 1, 1, 1, 1, 1, 1, 1, 1, 1, 1, 1, 1, 1, 1, 1, 1, 1, 1, 1, 1, 1, 1, 1, 1, 1, 1, 1, 1, 1, 1, 1, 1, 1, 1, 1, 1, 1, 1, 1, 1, 1, 1, 1, 1, 1, 1, 1, 1, 1, 1, 1, 1, 1, 1, 1, 1, 1, 1, 1, 1, 1, 1, 1, 1, 1, 1, 1, 1, 1, 1, 1, 1, 1, 1, 1, 1, 1, 1, 1, 1, 1, 1, 1, 1, 1, 1, 1, 1, 1, 1, 1, 1, 1, 1, 1, 1, 1, 1, 1, 1, 1, 1, 1, 1, 1, 1, 1, 1, 1, 1, 1, 1, 1, 1, 1, 1, 1, 1, 1, 1, 1, 1, 1, 1, 1, 1, 1, 1, 1, 1, 1, 1, 1, 1, 1, 1, 1, 1, 1, 1, 1, 1, 1, 1, 1, 1, 1, 1, 1, 1, 1, 1, 1, 1, 1, 1, 1, 1, 1, 1, 1, 1, 1, 1, 1, 1, 1, 1, 1, 1, 1, 1, 1, 1, 1, 1, 1, 1, 1, 1, 1, 1, 1, 1, 1, 1, 1, 1, 1, 1, 1, 1, 1, 1, 1, 1, 1, 1, 1, 1, 1, 1, 1, 1, 1, 1, 1, 1, 1, 1, 1, 1, 1, 1, 1, 1, 1, 1, 1, 1, 1, 1, 1, 1, 1, 1, 1, 1, 1, 1, 1, 1, 1, 1, 1, 1, 1, 1, 1, 1, 1, 1, 1, 1, 1, 1, 1, 1, 1, 1, 1, 1, 1, 1, 1, 1, 1, 1, 1, 1, 1, 1, 1, 1, 1, 1, 1, 1, 1, 1, 1, 1, 1, 1, 1, 1, 1, 1, 1, 1, 1, 1, 1, 1, 1, 1, 1, 1, 1, 1, 1, 1, 1, 1, 1, 1, 1, 1, 1, 1, 1, 1, 1, 1, 1, 1, 1, 1, 1, 1, 1, 1, 1, 1, 1, 1, 1, 1, 1, 1, 1, 1, 1, 1, 1, 1, 1, 1, 1, 1, 1, 1, 1, 1, 1, 1, 1, 1, 1, 1, 1, 1, 1, 1, 1, 1, 1, 1, 1, 1, 1, 1, 1, 1, 1, 1, 1, 1, 1, 1, 1, 1, 1, 1, 1, 1, 1, 1, 1, 1, 1, 1, 1, 1, 1, 1, 1, 1, 1, 1, 1, 1, 1, 1, 1, 1, 1, 1, 1, 1, 1, 1, 1, 1, 1, 1, 1, 1, 1, 1, 1, 1, 1, 1, 1, 1, 1, 1, 1, 1, 1, 1, 1, 1, 1, 1, 1, 1, 1, 1, 1, 1, 1, 1, 1, 1, 1, 1, 1, 1, 1, 1, 1, 1, 1, 1, 1, 1, 1, 1, 1, 1, 1, 1, 1, 1, 1, 1, 1, 1, 1]\n"
     ]
    }
   ],
   "source": [
    "compfix = [len(c) for c in sorted(nx.connected_components(unfrozen_graph), key=len, reverse=True)]\n",
    "print(\"components in the dataset: \", len(compfix))\n",
    "print([len(c) for c in sorted(nx.connected_components(unfrozen_graph), key=len, reverse=True)])\n",
    "biggest_comp = max([len(c) for c in sorted(nx.connected_components(unfrozen_graph), key=len, reverse=True)])"
   ]
  },
  {
   "cell_type": "markdown",
   "id": "27e04ee9",
   "metadata": {},
   "source": [
    "Remove clusters which are smaller than the biggest one"
   ]
  },
  {
   "cell_type": "code",
   "execution_count": 19,
   "id": "af151ba7",
   "metadata": {},
   "outputs": [],
   "source": [
    "# remove the sub clusters\n",
    "\n",
    "for component in list(nx.connected_components(unfrozen_graph)):\n",
    "    if len(component)<biggest_comp:\n",
    "        for node in component:\n",
    "            unfrozen_graph.remove_node(node)"
   ]
  },
  {
   "cell_type": "markdown",
   "id": "13940cb9",
   "metadata": {},
   "source": [
    "Double check"
   ]
  },
  {
   "cell_type": "code",
   "execution_count": 20,
   "id": "40ca3faa",
   "metadata": {
    "scrolled": true
   },
   "outputs": [
    {
     "name": "stdout",
     "output_type": "stream",
     "text": [
      "components in the dataset:  1\n",
      "[167]\n"
     ]
    }
   ],
   "source": [
    "compfix = [len(c) for c in sorted(nx.connected_components(unfrozen_graph), key=len, reverse=True)]\n",
    "print(\"components in the dataset: \", len(compfix))\n",
    "print([len(c) for c in sorted(nx.connected_components(unfrozen_graph), key=len, reverse=True)])"
   ]
  },
  {
   "cell_type": "markdown",
   "id": "b7b875f4",
   "metadata": {},
   "source": [
    "Preferential Attachment method for the new connections"
   ]
  },
  {
   "cell_type": "code",
   "execution_count": 21,
   "id": "9790315a",
   "metadata": {},
   "outputs": [],
   "source": [
    "linkpred_pa = list(nx.preferential_attachment(unfrozen_graph))\n",
    "\n",
    "linkpred_pa.sort(key = lambda tup: tup[2], reverse = True)\n"
   ]
  },
  {
   "cell_type": "markdown",
   "id": "8ddb4b27",
   "metadata": {},
   "source": [
    "Here we just neglect the lines, where user connect to user or venue to venue."
   ]
  },
  {
   "cell_type": "code",
   "execution_count": 22,
   "id": "509a47d0",
   "metadata": {},
   "outputs": [
    {
     "data": {
      "text/plain": [
       "[('u72', 'v16020', 80),\n",
       " ('v15139', 'u72', 64),\n",
       " ('u72', 'v7854', 64),\n",
       " ('u27404', 'v6293', 54),\n",
       " ('v4843', 'u72', 48)]"
      ]
     },
     "execution_count": 22,
     "metadata": {},
     "output_type": "execute_result"
    }
   ],
   "source": [
    "recommends_list_pa = []\n",
    "for i in range(len(linkpred_pa)):\n",
    "    if (linkpred_pa[i][0][0] == \"u\" and linkpred_pa[i][1][0] == \"v\") or (linkpred_pa[i][0][0] == \"v\" and linkpred_pa[i][1][0] == \"u\"):\n",
    "        recommends_list_pa.append(linkpred_pa[i])\n",
    "    else:\n",
    "        None\n",
    "recommends_list_pa[:5]"
   ]
  },
  {
   "cell_type": "markdown",
   "id": "aaa4be4e",
   "metadata": {},
   "source": [
    "# With the big dataset"
   ]
  },
  {
   "cell_type": "code",
   "execution_count": 23,
   "id": "5edc3a08",
   "metadata": {},
   "outputs": [],
   "source": [
    "G = nx.read_edgelist(\"dataset_ubicomp2013_tips_final_subcompontents_removed.txt\")"
   ]
  },
  {
   "cell_type": "code",
   "execution_count": 26,
   "id": "9cf6192b",
   "metadata": {},
   "outputs": [],
   "source": [
    "linkpred_pa = list(nx.preferential_attachment(G))\n",
    "\n",
    "linkpred_pa.sort(key = lambda tup: tup[2], reverse = True)"
   ]
  },
  {
   "cell_type": "markdown",
   "id": "a3060046",
   "metadata": {},
   "source": [
    "Below code needt to be adjusted since the first x finding is about the same user"
   ]
  },
  {
   "cell_type": "code",
   "execution_count": 27,
   "id": "5c7c3c53",
   "metadata": {},
   "outputs": [
    {
     "data": {
      "text/plain": [
       "[('u82569', 'v11100', 4312),\n",
       " ('v564', 'u82569', 3920),\n",
       " ('v12833', 'u82569', 3920),\n",
       " ('v985', 'u82569', 3724),\n",
       " ('u82569', 'v17698', 3724),\n",
       " ('v6293', 'u82569', 3528),\n",
       " ('v654', 'u82569', 3528),\n",
       " ('v5744', 'u82569', 3332),\n",
       " ('v11954', 'u82569', 3332),\n",
       " ('v1211', 'u82569', 3136),\n",
       " ('v12700', 'u82569', 3136),\n",
       " ('v10965', 'u82569', 3136),\n",
       " ('u82569', 'v4156', 3136),\n",
       " ('v7913', 'u82569', 2940),\n",
       " ('v15071', 'u82569', 2940),\n",
       " ('v9250', 'u82569', 2940),\n",
       " ('v23209', 'u82569', 2940),\n",
       " ('v20', 'u82569', 2940),\n",
       " ('v17415', 'u82569', 2940),\n",
       " ('u82569', 'v4561', 2940),\n",
       " ('v39242', 'u72', 2750),\n",
       " ('v1639', 'u82569', 2744),\n",
       " ('v332', 'u82569', 2744),\n",
       " ('v26199', 'u82569', 2744),\n",
       " ('v4429', 'u82569', 2744),\n",
       " ('v11056', 'u82569', 2548),\n",
       " ('v14250', 'u82569', 2548),\n",
       " ('v1554', 'u82569', 2548),\n",
       " ('v700', 'u82569', 2548),\n",
       " ('u82569', 'v8115', 2548),\n",
       " ('u82569', 'v1156', 2548),\n",
       " ('u82569', 'v16020', 2548),\n",
       " ('v985', 'u72', 2375),\n",
       " ('v1086', 'u72', 2375),\n",
       " ('v17698', 'u72', 2375),\n",
       " ('v609', 'u82569', 2352),\n",
       " ('v7557', 'u82569', 2352),\n",
       " ('v6206', 'u82569', 2352),\n",
       " ('v47569', 'u82569', 2352),\n",
       " ('v482', 'u82569', 2352),\n",
       " ('v17697', 'u82569', 2352),\n",
       " ('u82569', 'v602', 2352),\n",
       " ('u82569', 'v899', 2352),\n",
       " ('v654', 'u72', 2250),\n",
       " ('v1143', 'u82569', 2156),\n",
       " ('v11930', 'u82569', 2156),\n",
       " ('v9460', 'u82569', 2156),\n",
       " ('v12493', 'u82569', 2156),\n",
       " ('v10604', 'u82569', 2156),\n",
       " ('v9436', 'u82569', 2156),\n",
       " ('v25', 'u82569', 2156),\n",
       " ('v23119', 'u82569', 2156),\n",
       " ('v11872', 'u82569', 2156),\n",
       " ('v11134', 'u82569', 2156),\n",
       " ('u82569', 'v46', 2156),\n",
       " ('u82569', 'v1492', 2156),\n",
       " ('u82569', 'v4556', 2156),\n",
       " ('u82569', 'v22366', 2156),\n",
       " ('u82569', 'v10824', 2156),\n",
       " ('u82569', 'v76770', 2156),\n",
       " ('u82569', 'v57322', 2156),\n",
       " ('u82569', 'v21455', 2156),\n",
       " ('u82569', 'v423', 2156),\n",
       " ('u82569', 'v12496', 2156),\n",
       " ('u82569', 'v2623', 2156),\n",
       " ('v11954', 'u72', 2125),\n",
       " ('v5918', 'u72', 2125),\n",
       " ('v7723', 'u72', 2125),\n",
       " ('u72', 'v476', 2125),\n",
       " ('v39242', 'u196154', 2046),\n",
       " ('u196154', 'v11100', 2046),\n",
       " ('v1211', 'u72', 2000),\n",
       " ('v8228', 'u72', 2000),\n",
       " ('v12700', 'u72', 2000),\n",
       " ('v10965', 'u72', 2000),\n",
       " ('u72', 'v4156', 2000),\n",
       " ('v75007', 'u82569', 1960),\n",
       " ('v1395', 'u82569', 1960),\n",
       " ('v7627', 'u82569', 1960),\n",
       " ('v51152', 'u82569', 1960),\n",
       " ('v4461', 'u82569', 1960),\n",
       " ('v4734', 'u82569', 1960),\n",
       " ('v3575', 'u82569', 1960),\n",
       " ('v27966', 'u82569', 1960),\n",
       " ('v21324', 'u82569', 1960),\n",
       " ('v19837', 'u82569', 1960),\n",
       " ('v10904', 'u82569', 1960),\n",
       " ('v1177', 'u82569', 1960),\n",
       " ('v13630', 'u82569', 1960),\n",
       " ('u82569', 'v639', 1960),\n",
       " ('u82569', 'v15139', 1960),\n",
       " ('u82569', 'v13447', 1960),\n",
       " ('u82569', 'v5648', 1960),\n",
       " ('u82569', 'v10073', 1960),\n",
       " ('v18222', 'u196154', 1953),\n",
       " ('v7913', 'u72', 1875),\n",
       " ('v9250', 'u72', 1875),\n",
       " ('v20', 'u72', 1875),\n",
       " ('v17415', 'u72', 1875),\n",
       " ('v70790', 'u72', 1875)]"
      ]
     },
     "execution_count": 27,
     "metadata": {},
     "output_type": "execute_result"
    }
   ],
   "source": [
    "recommends_list_pa = []\n",
    "for i in range(len(linkpred_pa)):\n",
    "    if (linkpred_pa[i][0][0] == \"u\" and linkpred_pa[i][1][0] == \"v\") or (linkpred_pa[i][0][0] == \"v\" and linkpred_pa[i][1][0] == \"u\"):\n",
    "        recommends_list_pa.append(linkpred_pa[i])\n",
    "    else:\n",
    "        None\n",
    "recommends_list_pa[:100]"
   ]
  },
  {
   "cell_type": "code",
   "execution_count": null,
   "id": "5e15ddf2",
   "metadata": {},
   "outputs": [],
   "source": []
  }
 ],
 "metadata": {
  "kernelspec": {
   "display_name": "Python 3 (ipykernel)",
   "language": "python",
   "name": "python3"
  },
  "language_info": {
   "codemirror_mode": {
    "name": "ipython",
    "version": 3
   },
   "file_extension": ".py",
   "mimetype": "text/x-python",
   "name": "python",
   "nbconvert_exporter": "python",
   "pygments_lexer": "ipython3",
   "version": "3.9.6"
  }
 },
 "nbformat": 4,
 "nbformat_minor": 5
}
