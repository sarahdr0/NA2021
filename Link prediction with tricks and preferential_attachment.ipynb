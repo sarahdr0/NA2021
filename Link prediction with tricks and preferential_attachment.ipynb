{
 "cells": [
  {
   "cell_type": "code",
   "execution_count": 30,
   "id": "5e3372e9",
   "metadata": {},
   "outputs": [],
   "source": [
    "import networkx as nx\n",
    "import random"
   ]
  },
  {
   "cell_type": "code",
   "execution_count": 31,
   "id": "4d0a5853",
   "metadata": {},
   "outputs": [],
   "source": [
    "G = nx.read_edgelist(\"dataset_ubicomp2013_tips_final_subcompontents_removed.txt\")"
   ]
  },
  {
   "cell_type": "markdown",
   "id": "c6c36b8e",
   "metadata": {},
   "source": [
    "Simple sampling, we can skip this part"
   ]
  },
  {
   "cell_type": "code",
   "execution_count": 32,
   "id": "243b921d",
   "metadata": {
    "scrolled": true
   },
   "outputs": [
    {
     "name": "stderr",
     "output_type": "stream",
     "text": [
      "C:\\Users\\MUSIC\\AppData\\Local\\Temp/ipykernel_12328/232423041.py:2: DeprecationWarning: Sampling from a set deprecated\n",
      "since Python 3.9 and will be removed in a subsequent version.\n",
      "  sampled_nodes = random.sample(G.nodes, k)\n"
     ]
    }
   ],
   "source": [
    "k = 800\n",
    "sampled_nodes = random.sample(G.nodes, k)\n",
    "sampled_graph = G.subgraph(sampled_nodes)"
   ]
  },
  {
   "cell_type": "markdown",
   "id": "799c0ea4",
   "metadata": {},
   "source": [
    "Ther was a problem with a \"freezed\" graph, that can means kind a protection, so code unfreeze it to be able to remove small clusters"
   ]
  },
  {
   "cell_type": "code",
   "execution_count": 33,
   "id": "daca876b",
   "metadata": {
    "scrolled": true
   },
   "outputs": [
    {
     "data": {
      "text/plain": [
       "False"
      ]
     },
     "execution_count": 33,
     "metadata": {},
     "output_type": "execute_result"
    }
   ],
   "source": [
    "unfrozen_graph = nx.Graph(sampled_graph)\n",
    "nx.is_frozen(unfrozen_graph)"
   ]
  },
  {
   "cell_type": "markdown",
   "id": "63af160b",
   "metadata": {},
   "source": [
    "Below needs after the sampling, since small clusters have in the graphs"
   ]
  },
  {
   "cell_type": "code",
   "execution_count": 34,
   "id": "8be5e272",
   "metadata": {},
   "outputs": [
    {
     "data": {
      "text/plain": [
       "109"
      ]
     },
     "execution_count": 34,
     "metadata": {},
     "output_type": "execute_result"
    }
   ],
   "source": [
    "max([len(c) for c in sorted(nx.connected_components(unfrozen_graph), key=len, reverse=True)])"
   ]
  },
  {
   "cell_type": "code",
   "execution_count": 35,
   "id": "536845e4",
   "metadata": {
    "scrolled": true
   },
   "outputs": [
    {
     "name": "stdout",
     "output_type": "stream",
     "text": [
      "components in the dataset:  586\n",
      "[109, 14, 14, 6, 5, 4, 4, 4, 4, 4, 3, 3, 3, 3, 3, 3, 3, 2, 2, 2, 2, 2, 2, 2, 2, 2, 2, 2, 2, 2, 2, 2, 2, 2, 2, 2, 2, 2, 2, 2, 2, 2, 2, 2, 2, 2, 2, 2, 2, 2, 2, 2, 2, 2, 2, 2, 2, 2, 2, 1, 1, 1, 1, 1, 1, 1, 1, 1, 1, 1, 1, 1, 1, 1, 1, 1, 1, 1, 1, 1, 1, 1, 1, 1, 1, 1, 1, 1, 1, 1, 1, 1, 1, 1, 1, 1, 1, 1, 1, 1, 1, 1, 1, 1, 1, 1, 1, 1, 1, 1, 1, 1, 1, 1, 1, 1, 1, 1, 1, 1, 1, 1, 1, 1, 1, 1, 1, 1, 1, 1, 1, 1, 1, 1, 1, 1, 1, 1, 1, 1, 1, 1, 1, 1, 1, 1, 1, 1, 1, 1, 1, 1, 1, 1, 1, 1, 1, 1, 1, 1, 1, 1, 1, 1, 1, 1, 1, 1, 1, 1, 1, 1, 1, 1, 1, 1, 1, 1, 1, 1, 1, 1, 1, 1, 1, 1, 1, 1, 1, 1, 1, 1, 1, 1, 1, 1, 1, 1, 1, 1, 1, 1, 1, 1, 1, 1, 1, 1, 1, 1, 1, 1, 1, 1, 1, 1, 1, 1, 1, 1, 1, 1, 1, 1, 1, 1, 1, 1, 1, 1, 1, 1, 1, 1, 1, 1, 1, 1, 1, 1, 1, 1, 1, 1, 1, 1, 1, 1, 1, 1, 1, 1, 1, 1, 1, 1, 1, 1, 1, 1, 1, 1, 1, 1, 1, 1, 1, 1, 1, 1, 1, 1, 1, 1, 1, 1, 1, 1, 1, 1, 1, 1, 1, 1, 1, 1, 1, 1, 1, 1, 1, 1, 1, 1, 1, 1, 1, 1, 1, 1, 1, 1, 1, 1, 1, 1, 1, 1, 1, 1, 1, 1, 1, 1, 1, 1, 1, 1, 1, 1, 1, 1, 1, 1, 1, 1, 1, 1, 1, 1, 1, 1, 1, 1, 1, 1, 1, 1, 1, 1, 1, 1, 1, 1, 1, 1, 1, 1, 1, 1, 1, 1, 1, 1, 1, 1, 1, 1, 1, 1, 1, 1, 1, 1, 1, 1, 1, 1, 1, 1, 1, 1, 1, 1, 1, 1, 1, 1, 1, 1, 1, 1, 1, 1, 1, 1, 1, 1, 1, 1, 1, 1, 1, 1, 1, 1, 1, 1, 1, 1, 1, 1, 1, 1, 1, 1, 1, 1, 1, 1, 1, 1, 1, 1, 1, 1, 1, 1, 1, 1, 1, 1, 1, 1, 1, 1, 1, 1, 1, 1, 1, 1, 1, 1, 1, 1, 1, 1, 1, 1, 1, 1, 1, 1, 1, 1, 1, 1, 1, 1, 1, 1, 1, 1, 1, 1, 1, 1, 1, 1, 1, 1, 1, 1, 1, 1, 1, 1, 1, 1, 1, 1, 1, 1, 1, 1, 1, 1, 1, 1, 1, 1, 1, 1, 1, 1, 1, 1, 1, 1, 1, 1, 1, 1, 1, 1, 1, 1, 1, 1, 1, 1, 1, 1, 1, 1, 1, 1, 1, 1, 1, 1, 1, 1, 1, 1, 1, 1, 1, 1, 1, 1, 1, 1, 1, 1, 1, 1, 1, 1, 1, 1, 1, 1, 1, 1, 1, 1, 1, 1, 1, 1, 1, 1, 1, 1, 1, 1, 1, 1, 1, 1, 1, 1, 1, 1, 1, 1, 1, 1, 1, 1, 1, 1, 1, 1, 1, 1, 1, 1, 1, 1, 1, 1, 1, 1, 1, 1, 1, 1, 1, 1, 1, 1, 1, 1]\n"
     ]
    }
   ],
   "source": [
    "compfix = [len(c) for c in sorted(nx.connected_components(unfrozen_graph), key=len, reverse=True)]\n",
    "print(\"components in the dataset: \", len(compfix))\n",
    "print([len(c) for c in sorted(nx.connected_components(unfrozen_graph), key=len, reverse=True)])\n",
    "biggest_comp = max([len(c) for c in sorted(nx.connected_components(unfrozen_graph), key=len, reverse=True)])"
   ]
  },
  {
   "cell_type": "markdown",
   "id": "27e04ee9",
   "metadata": {},
   "source": [
    "Remove clusters which are smaller than the biggest one"
   ]
  },
  {
   "cell_type": "code",
   "execution_count": 36,
   "id": "af151ba7",
   "metadata": {},
   "outputs": [],
   "source": [
    "# remove the sub clusters\n",
    "\n",
    "for component in list(nx.connected_components(unfrozen_graph)):\n",
    "    if len(component)<biggest_comp:\n",
    "        for node in component:\n",
    "            unfrozen_graph.remove_node(node)"
   ]
  },
  {
   "cell_type": "markdown",
   "id": "13940cb9",
   "metadata": {},
   "source": [
    "Double check"
   ]
  },
  {
   "cell_type": "code",
   "execution_count": 37,
   "id": "40ca3faa",
   "metadata": {
    "scrolled": true
   },
   "outputs": [
    {
     "name": "stdout",
     "output_type": "stream",
     "text": [
      "components in the dataset:  1\n",
      "[109]\n"
     ]
    }
   ],
   "source": [
    "compfix = [len(c) for c in sorted(nx.connected_components(unfrozen_graph), key=len, reverse=True)]\n",
    "print(\"components in the dataset: \", len(compfix))\n",
    "print([len(c) for c in sorted(nx.connected_components(unfrozen_graph), key=len, reverse=True)])"
   ]
  },
  {
   "cell_type": "markdown",
   "id": "b7b875f4",
   "metadata": {},
   "source": [
    "Preferential Attachment method for the new connections"
   ]
  },
  {
   "cell_type": "code",
   "execution_count": 40,
   "id": "9790315a",
   "metadata": {},
   "outputs": [],
   "source": [
    "linkpred_pa = list(nx.preferential_attachment(unfrozen_graph))\n",
    "\n",
    "linkpred_pa.sort(key = lambda tup: tup[2], reverse = True)\n"
   ]
  },
  {
   "cell_type": "markdown",
   "id": "8ddb4b27",
   "metadata": {},
   "source": [
    "Here we just neglect the lines, where user connect to user or venue to venue."
   ]
  },
  {
   "cell_type": "code",
   "execution_count": 41,
   "id": "509a47d0",
   "metadata": {},
   "outputs": [
    {
     "data": {
      "text/plain": [
       "[('v12621', 'u72', 88),\n",
       " ('u72', 'v7796', 88),\n",
       " ('v11056', 'u72', 66),\n",
       " ('v4556', 'u72', 66),\n",
       " ('u72', 'v19644', 66)]"
      ]
     },
     "execution_count": 41,
     "metadata": {},
     "output_type": "execute_result"
    }
   ],
   "source": [
    "recommends_list_pa = []\n",
    "for i in range(len(linkpred_pa)):\n",
    "    if (linkpred_pa[i][0][0] == \"u\" and linkpred_pa[i][1][0] == \"v\") or (linkpred_pa[i][0][0] == \"v\" and linkpred_pa[i][1][0] == \"u\"):\n",
    "        recommends_list_pa.append(linkpred_pa[i])\n",
    "    else:\n",
    "        None\n",
    "recommends_list_pa[:5]"
   ]
  },
  {
   "cell_type": "markdown",
   "id": "aaa4be4e",
   "metadata": {},
   "source": [
    "# With the big dataset"
   ]
  },
  {
   "cell_type": "code",
   "execution_count": 42,
   "id": "5edc3a08",
   "metadata": {},
   "outputs": [],
   "source": [
    "G = nx.read_edgelist(\"dataset_ubicomp2013_tips_final_subcompontents_removed.txt\")"
   ]
  },
  {
   "cell_type": "code",
   "execution_count": 43,
   "id": "9cf6192b",
   "metadata": {},
   "outputs": [],
   "source": [
    "linkpred_pa = list(nx.preferential_attachment(G))\n",
    "\n",
    "linkpred_pa.sort(key = lambda tup: tup[2], reverse = True)"
   ]
  },
  {
   "cell_type": "code",
   "execution_count": 44,
   "id": "5c7c3c53",
   "metadata": {},
   "outputs": [
    {
     "data": {
      "text/plain": [
       "[('u82569', 'v11100', 4312),\n",
       " ('v12833', 'u82569', 3920),\n",
       " ('u82569', 'v564', 3920),\n",
       " ('v985', 'u82569', 3724),\n",
       " ('u82569', 'v17698', 3724),\n",
       " ('v654', 'u82569', 3528),\n",
       " ('u82569', 'v6293', 3528),\n",
       " ('v5744', 'u82569', 3332),\n",
       " ('u82569', 'v11954', 3332),\n",
       " ('v1211', 'u82569', 3136),\n",
       " ('u82569', 'v4156', 3136),\n",
       " ('u82569', 'v10965', 3136),\n",
       " ('u82569', 'v12700', 3136),\n",
       " ('v17415', 'u82569', 2940),\n",
       " ('v15071', 'u82569', 2940),\n",
       " ('u82569', 'v7913', 2940),\n",
       " ('u82569', 'v9250', 2940),\n",
       " ('u82569', 'v20', 2940),\n",
       " ('u82569', 'v4561', 2940),\n",
       " ('u82569', 'v23209', 2940)]"
      ]
     },
     "execution_count": 44,
     "metadata": {},
     "output_type": "execute_result"
    }
   ],
   "source": [
    "recommends_list_pa = []\n",
    "for i in range(len(linkpred_pa)):\n",
    "    if (linkpred_pa[i][0][0] == \"u\" and linkpred_pa[i][1][0] == \"v\") or (linkpred_pa[i][0][0] == \"v\" and linkpred_pa[i][1][0] == \"u\"):\n",
    "        recommends_list_pa.append(linkpred_pa[i])\n",
    "    else:\n",
    "        None\n",
    "recommends_list_pa[:20]"
   ]
  },
  {
   "cell_type": "code",
   "execution_count": null,
   "id": "5e15ddf2",
   "metadata": {},
   "outputs": [],
   "source": []
  }
 ],
 "metadata": {
  "kernelspec": {
   "display_name": "Python 3 (ipykernel)",
   "language": "python",
   "name": "python3"
  },
  "language_info": {
   "codemirror_mode": {
    "name": "ipython",
    "version": 3
   },
   "file_extension": ".py",
   "mimetype": "text/x-python",
   "name": "python",
   "nbconvert_exporter": "python",
   "pygments_lexer": "ipython3",
   "version": "3.9.6"
  }
 },
 "nbformat": 4,
 "nbformat_minor": 5
}
