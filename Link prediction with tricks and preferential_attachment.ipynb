{
 "cells": [
  {
   "cell_type": "code",
   "execution_count": 30,
   "id": "615ee3b8",
   "metadata": {},
   "outputs": [],
   "source": [
    "import networkx as nx\n",
    "import random"
   ]
  },
  {
   "cell_type": "code",
   "execution_count": 31,
   "id": "daacd840",
   "metadata": {},
   "outputs": [],
   "source": [
    "G = nx.read_edgelist(\"dataset_ubicomp2013_tips_final_subcompontents_removed.txt\")"
   ]
  },
  {
   "cell_type": "markdown",
   "id": "fe505e6e",
   "metadata": {},
   "source": [
    "Simple sampling, we can skip this part"
   ]
  },
  {
   "cell_type": "code",
   "execution_count": 32,
   "id": "b043bc52",
   "metadata": {
    "scrolled": true
   },
   "outputs": [
    {
     "name": "stderr",
     "output_type": "stream",
     "text": [
      "C:\\Users\\MUSIC\\AppData\\Local\\Temp/ipykernel_12328/232423041.py:2: DeprecationWarning: Sampling from a set deprecated\n",
      "since Python 3.9 and will be removed in a subsequent version.\n",
      "  sampled_nodes = random.sample(G.nodes, k)\n"
     ]
    }
   ],
   "source": [
    "k = 800\n",
    "sampled_nodes = random.sample(G.nodes, k)\n",
    "sampled_graph = G.subgraph(sampled_nodes)"
   ]
  },
  {
   "cell_type": "markdown",
   "id": "bce74049",
   "metadata": {},
   "source": [
    "Ther was a problem with a \"freezed\" graph, that can means kind a protection, so code unfreeze it to be able to remove small clusters"
   ]
  },
  {
   "cell_type": "code",
   "execution_count": 33,
   "id": "d80f9968",
   "metadata": {
    "scrolled": true
   },
   "outputs": [
    {
     "data": {
      "text/plain": [
       "False"
      ]
     },
     "execution_count": 33,
     "metadata": {},
     "output_type": "execute_result"
    }
   ],
   "source": [
    "unfrozen_graph = nx.Graph(sampled_graph)\n",
    "nx.is_frozen(unfrozen_graph)"
   ]
  },
  {
   "cell_type": "markdown",
   "id": "7c7b96a3",
   "metadata": {},
   "source": [
    "Below needs after the sampling, since small clusters have in the graphs"
   ]
  },
  {
   "cell_type": "code",
   "execution_count": 34,
   "id": "b5afb0cd",
   "metadata": {},
   "outputs": [
    {
     "data": {
      "text/plain": [
       "109"
      ]
     },
     "execution_count": 34,
     "metadata": {},
     "output_type": "execute_result"
    }
   ],
   "source": [
    "max([len(c) for c in sorted(nx.connected_components(unfrozen_graph), key=len, reverse=True)])"
   ]
  },
  {
   "cell_type": "code",
   "execution_count": 35,
   "id": "2e41fce3",
   "metadata": {
    "scrolled": true
   },
   "outputs": [
    {
     "name": "stdout",
     "output_type": "stream",
     "text": [
      "components in the dataset:  586\n",
      "[109, 14, 14, 6, 5, 4, 4, 4, 4, 4, 3, 3, 3, 3, 3, 3, 3, 2, 2, 2, 2, 2, 2, 2, 2, 2, 2, 2, 2, 2, 2, 2, 2, 2, 2, 2, 2, 2, 2, 2, 2, 2, 2, 2, 2, 2, 2, 2, 2, 2, 2, 2, 2, 2, 2, 2, 2, 2, 2, 1, 1, 1, 1, 1, 1, 1, 1, 1, 1, 1, 1, 1, 1, 1, 1, 1, 1, 1, 1, 1, 1, 1, 1, 1, 1, 1, 1, 1, 1, 1, 1, 1, 1, 1, 1, 1, 1, 1, 1, 1, 1, 1, 1, 1, 1, 1, 1, 1, 1, 1, 1, 1, 1, 1, 1, 1, 1, 1, 1, 1, 1, 1, 1, 1, 1, 1, 1, 1, 1, 1, 1, 1, 1, 1, 1, 1, 1, 1, 1, 1, 1, 1, 1, 1, 1, 1, 1, 1, 1, 1, 1, 1, 1, 1, 1, 1, 1, 1, 1, 1, 1, 1, 1, 1, 1, 1, 1, 1, 1, 1, 1, 1, 1, 1, 1, 1, 1, 1, 1, 1, 1, 1, 1, 1, 1, 1, 1, 1, 1, 1, 1, 1, 1, 1, 1, 1, 1, 1, 1, 1, 1, 1, 1, 1, 1, 1, 1, 1, 1, 1, 1, 1, 1, 1, 1, 1, 1, 1, 1, 1, 1, 1, 1, 1, 1, 1, 1, 1, 1, 1, 1, 1, 1, 1, 1, 1, 1, 1, 1, 1, 1, 1, 1, 1, 1, 1, 1, 1, 1, 1, 1, 1, 1, 1, 1, 1, 1, 1, 1, 1, 1, 1, 1, 1, 1, 1, 1, 1, 1, 1, 1, 1, 1, 1, 1, 1, 1, 1, 1, 1, 1, 1, 1, 1, 1, 1, 1, 1, 1, 1, 1, 1, 1, 1, 1, 1, 1, 1, 1, 1, 1, 1, 1, 1, 1, 1, 1, 1, 1, 1, 1, 1, 1, 1, 1, 1, 1, 1, 1, 1, 1, 1, 1, 1, 1, 1, 1, 1, 1, 1, 1, 1, 1, 1, 1, 1, 1, 1, 1, 1, 1, 1, 1, 1, 1, 1, 1, 1, 1, 1, 1, 1, 1, 1, 1, 1, 1, 1, 1, 1, 1, 1, 1, 1, 1, 1, 1, 1, 1, 1, 1, 1, 1, 1, 1, 1, 1, 1, 1, 1, 1, 1, 1, 1, 1, 1, 1, 1, 1, 1, 1, 1, 1, 1, 1, 1, 1, 1, 1, 1, 1, 1, 1, 1, 1, 1, 1, 1, 1, 1, 1, 1, 1, 1, 1, 1, 1, 1, 1, 1, 1, 1, 1, 1, 1, 1, 1, 1, 1, 1, 1, 1, 1, 1, 1, 1, 1, 1, 1, 1, 1, 1, 1, 1, 1, 1, 1, 1, 1, 1, 1, 1, 1, 1, 1, 1, 1, 1, 1, 1, 1, 1, 1, 1, 1, 1, 1, 1, 1, 1, 1, 1, 1, 1, 1, 1, 1, 1, 1, 1, 1, 1, 1, 1, 1, 1, 1, 1, 1, 1, 1, 1, 1, 1, 1, 1, 1, 1, 1, 1, 1, 1, 1, 1, 1, 1, 1, 1, 1, 1, 1, 1, 1, 1, 1, 1, 1, 1, 1, 1, 1, 1, 1, 1, 1, 1, 1, 1, 1, 1, 1, 1, 1, 1, 1, 1, 1, 1, 1, 1, 1, 1, 1, 1, 1, 1, 1, 1, 1, 1, 1, 1, 1, 1, 1, 1, 1, 1, 1, 1, 1, 1, 1, 1, 1, 1, 1, 1, 1, 1, 1, 1, 1, 1, 1, 1, 1, 1, 1, 1, 1, 1, 1, 1, 1, 1]\n"
     ]
    }
   ],
   "source": [
    "compfix = [len(c) for c in sorted(nx.connected_components(unfrozen_graph), key=len, reverse=True)]\n",
    "print(\"components in the dataset: \", len(compfix))\n",
    "print([len(c) for c in sorted(nx.connected_components(unfrozen_graph), key=len, reverse=True)])\n",
    "biggest_comp = max([len(c) for c in sorted(nx.connected_components(unfrozen_graph), key=len, reverse=True)])"
   ]
  },
  {
   "cell_type": "markdown",
   "id": "0527bf1e",
   "metadata": {},
   "source": [
    "Remove clusters which are smaller than the biggest one"
   ]
  },
  {
   "cell_type": "code",
   "execution_count": 36,
   "id": "bacb38fd",
   "metadata": {},
   "outputs": [],
   "source": [
    "# remove the sub clusters\n",
    "\n",
    "for component in list(nx.connected_components(unfrozen_graph)):\n",
    "    if len(component)<biggest_comp:\n",
    "        for node in component:\n",
    "            unfrozen_graph.remove_node(node)"
   ]
  },
  {
   "cell_type": "markdown",
   "id": "701d6ef2",
   "metadata": {},
   "source": [
    "Double check"
   ]
  },
  {
   "cell_type": "code",
   "execution_count": 37,
   "id": "fb7f6c86",
   "metadata": {
    "scrolled": true
   },
   "outputs": [
    {
     "name": "stdout",
     "output_type": "stream",
     "text": [
      "components in the dataset:  1\n",
      "[109]\n"
     ]
    }
   ],
   "source": [
    "compfix = [len(c) for c in sorted(nx.connected_components(unfrozen_graph), key=len, reverse=True)]\n",
    "print(\"components in the dataset: \", len(compfix))\n",
    "print([len(c) for c in sorted(nx.connected_components(unfrozen_graph), key=len, reverse=True)])"
   ]
  },
  {
   "cell_type": "markdown",
   "id": "013ea45d",
   "metadata": {},
   "source": [
    "Preferential Attachment method for the new connections"
   ]
  },
  {
   "cell_type": "code",
   "execution_count": 40,
   "id": "7ea8e8d5",
   "metadata": {},
   "outputs": [],
   "source": [
    "linkpred_pa = list(nx.preferential_attachment(unfrozen_graph))\n",
    "\n",
    "linkpred_pa.sort(key = lambda tup: tup[2], reverse = True)\n"
   ]
  },
  {
   "cell_type": "markdown",
   "id": "a8b9e12e",
   "metadata": {},
   "source": [
    "Here we just neglect the lines, where user connect to user or venue to venue."
   ]
  },
  {
   "cell_type": "code",
   "execution_count": 41,
   "id": "43c22a71",
   "metadata": {},
   "outputs": [
    {
     "data": {
      "text/plain": [
       "[('v12621', 'u72', 88),\n",
       " ('u72', 'v7796', 88),\n",
       " ('v11056', 'u72', 66),\n",
       " ('v4556', 'u72', 66),\n",
       " ('u72', 'v19644', 66)]"
      ]
     },
     "execution_count": 41,
     "metadata": {},
     "output_type": "execute_result"
    }
   ],
   "source": [
    "recommends_list_pa = []\n",
    "for i in range(len(linkpred_pa)):\n",
    "    if (linkpred_pa[i][0][0] == \"u\" and linkpred_pa[i][1][0] == \"v\") or (linkpred_pa[i][0][0] == \"v\" and linkpred_pa[i][1][0] == \"u\"):\n",
    "        recommends_list_pa.append(linkpred_pa[i])\n",
    "    else:\n",
    "        None\n",
    "recommends_list_pa[:5]"
   ]
  },
  {
   "cell_type": "code",
   "execution_count": null,
   "id": "9f8b57c6",
   "metadata": {},
   "outputs": [],
   "source": []
  }
 ],
 "metadata": {
  "kernelspec": {
   "display_name": "Python 3 (ipykernel)",
   "language": "python",
   "name": "python3"
  },
  "language_info": {
   "codemirror_mode": {
    "name": "ipython",
    "version": 3
   },
   "file_extension": ".py",
   "mimetype": "text/x-python",
   "name": "python",
   "nbconvert_exporter": "python",
   "pygments_lexer": "ipython3",
   "version": "3.9.6"
  }
 },
 "nbformat": 4,
 "nbformat_minor": 5
}
